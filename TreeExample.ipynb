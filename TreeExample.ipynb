{
 "cells": [
  {
   "cell_type": "markdown",
   "id": "73a1d177",
   "metadata": {},
   "source": [
    "# Create Tree from Module"
   ]
  },
  {
   "cell_type": "code",
   "execution_count": 1,
   "id": "2c20c426",
   "metadata": {},
   "outputs": [],
   "source": [
    "from classy_mermaid.tree import create_tree_from_module, tree_to_graph"
   ]
  },
  {
   "cell_type": "code",
   "execution_count": 2,
   "id": "caa9c967",
   "metadata": {},
   "outputs": [
    {
     "name": "stderr",
     "output_type": "stream",
     "text": [
      "2022-03-28 17:44:42,461 - classy_mermaid.tree.create_trees - INFO - Creating tree from module classy_mermaid\n",
      "2022-03-28 17:44:42,471 - classy_mermaid.tree.create_trees - DEBUG - Skipping private members.\n",
      "2022-03-28 17:44:42,472 - classy_mermaid.tree.create_trees - DEBUG - Skipping members outside classy_mermaid.\n",
      "2022-03-28 17:44:42,474 - classy_mermaid.tree.create_trees - DEBUG - Found members to document in module classy_mermaid:\n",
      "        - Submodules: 2\n",
      "        - Classes: 0\n",
      "        - Functions: 0\n",
      "2022-03-28 17:44:42,477 - classy_mermaid.tree.create_trees - DEBUG - In classy_mermaid found:\n",
      "          2 Nodes\n",
      "          2 Submodules: classy_mermaid.logger,classy_mermaid.tree\n",
      "2022-03-28 17:44:42,479 - classy_mermaid.tree.module_tree - DEBUG - Creating NodeBase from classy_mermaid.logger\n",
      "2022-03-28 17:44:42,480 - classy_mermaid.tree.module_tree - DEBUG - Adding node classy_mermaid.logger to tree\n",
      "2022-03-28 17:44:42,481 - classy_mermaid.tree.module_tree - DEBUG - Creating NodeBase from classy_mermaid.tree\n",
      "2022-03-28 17:44:42,482 - classy_mermaid.tree.module_tree - DEBUG - Adding node classy_mermaid.tree to tree\n",
      "2022-03-28 17:44:42,483 - classy_mermaid.tree.create_trees - DEBUG - Recursing into: classy_mermaid.logger\n",
      "2022-03-28 17:44:42,485 - classy_mermaid.tree.create_trees - DEBUG - Creating tree from module <module 'classy_mermaid.logger' from '/Users/elizabeth/Documents/urbanlabs/working/classy-mermaid/classy_mermaid/logger.py'>\n",
      "2022-03-28 17:44:42,485 - classy_mermaid.tree.create_trees - DEBUG - Skipping private members.\n",
      "2022-03-28 17:44:42,486 - classy_mermaid.tree.create_trees - DEBUG - Skipping members outside classy_mermaid.logger.\n",
      "2022-03-28 17:44:42,487 - classy_mermaid.tree.create_trees - DEBUG - Found members to document in module classy_mermaid.logger:\n",
      "        - Submodules: 0\n",
      "        - Classes: 0\n",
      "        - Functions: 1\n",
      "2022-03-28 17:44:42,488 - classy_mermaid.tree.create_trees - DEBUG - In classy_mermaid.logger found:\n",
      "          1 Nodes\n",
      "          0 Submodules: \n",
      "2022-03-28 17:44:42,489 - classy_mermaid.tree.module_tree - DEBUG - Creating NodeBase from get_logger\n",
      "2022-03-28 17:44:42,490 - classy_mermaid.tree.module_tree - DEBUG - Adding node get_logger to tree\n",
      "2022-03-28 17:44:42,491 - classy_mermaid.tree.module_tree - DEBUG - Parent module classy_mermaid.logger not in tree\n",
      "2022-03-28 17:44:42,492 - classy_mermaid.tree.create_trees - DEBUG - Returning Tree: num_recursive=2, _submodules=[]\n",
      "2022-03-28 17:44:42,493 - classy_mermaid.tree.create_trees - DEBUG -    TREE: \n",
      "     - ModuleNode(classy_mermaid.logger)\n",
      "     - ModuleNode(classy_mermaid.tree)\n",
      "     - FunctionNode(get_logger)\n",
      "2022-03-28 17:44:42,494 - classy_mermaid.tree.create_trees - DEBUG - Exiting recursion from: classy_mermaid.logger\n",
      "2022-03-28 17:44:42,495 - classy_mermaid.tree.create_trees - DEBUG - Recursing into: classy_mermaid.tree\n",
      "2022-03-28 17:44:42,496 - classy_mermaid.tree.create_trees - DEBUG - Creating tree from module <module 'classy_mermaid.tree' from '/Users/elizabeth/Documents/urbanlabs/working/classy-mermaid/classy_mermaid/tree/__init__.py'>\n",
      "2022-03-28 17:44:42,496 - classy_mermaid.tree.create_trees - DEBUG - Skipping private members.\n",
      "2022-03-28 17:44:42,497 - classy_mermaid.tree.create_trees - DEBUG - Skipping members outside classy_mermaid.tree.\n",
      "2022-03-28 17:44:42,498 - classy_mermaid.tree.create_trees - DEBUG - Found members to document in module classy_mermaid.tree:\n",
      "        - Submodules: 3\n",
      "        - Classes: 0\n",
      "        - Functions: 2\n",
      "2022-03-28 17:44:42,499 - classy_mermaid.tree.create_trees - DEBUG - In classy_mermaid.tree found:\n",
      "          5 Nodes\n",
      "          3 Submodules: classy_mermaid.tree.create_trees,classy_mermaid.tree.graphs,classy_mermaid.tree.module_tree\n",
      "2022-03-28 17:44:42,500 - classy_mermaid.tree.module_tree - DEBUG - Creating NodeBase from classy_mermaid.tree.create_trees\n",
      "2022-03-28 17:44:42,501 - classy_mermaid.tree.module_tree - DEBUG - Adding node classy_mermaid.tree.create_trees to tree\n",
      "2022-03-28 17:44:42,503 - classy_mermaid.tree.module_tree - DEBUG - Creating NodeBase from classy_mermaid.tree.graphs\n",
      "2022-03-28 17:44:42,505 - classy_mermaid.tree.module_tree - DEBUG - Adding node classy_mermaid.tree.graphs to tree\n",
      "2022-03-28 17:44:42,507 - classy_mermaid.tree.module_tree - DEBUG - Creating NodeBase from classy_mermaid.tree.module_tree\n",
      "2022-03-28 17:44:42,508 - classy_mermaid.tree.module_tree - DEBUG - Adding node classy_mermaid.tree.module_tree to tree\n",
      "2022-03-28 17:44:42,508 - classy_mermaid.tree.module_tree - DEBUG - Creating NodeBase from create_tree_from_module\n",
      "2022-03-28 17:44:42,509 - classy_mermaid.tree.module_tree - DEBUG - Adding node create_tree_from_module to tree\n",
      "2022-03-28 17:44:42,510 - classy_mermaid.tree.module_tree - DEBUG - Parent module classy_mermaid.tree.create_trees not in tree\n",
      "2022-03-28 17:44:42,511 - classy_mermaid.tree.module_tree - DEBUG - Creating NodeBase from tree_to_graph\n",
      "2022-03-28 17:44:42,512 - classy_mermaid.tree.module_tree - DEBUG - Adding node tree_to_graph to tree\n",
      "2022-03-28 17:44:42,513 - classy_mermaid.tree.module_tree - DEBUG - Parent module classy_mermaid.tree.graphs not in tree\n",
      "2022-03-28 17:44:42,514 - classy_mermaid.tree.create_trees - DEBUG - Recursing into: classy_mermaid.tree.create_trees\n",
      "2022-03-28 17:44:42,515 - classy_mermaid.tree.create_trees - DEBUG - Creating tree from module <module 'classy_mermaid.tree.create_trees' from '/Users/elizabeth/Documents/urbanlabs/working/classy-mermaid/classy_mermaid/tree/create_trees.py'>\n",
      "2022-03-28 17:44:42,515 - classy_mermaid.tree.create_trees - DEBUG - Skipping private members.\n",
      "2022-03-28 17:44:42,519 - classy_mermaid.tree.create_trees - DEBUG - Skipping members outside classy_mermaid.tree.create_trees.\n",
      "2022-03-28 17:44:42,521 - classy_mermaid.tree.create_trees - DEBUG - Found members to document in module classy_mermaid.tree.create_trees:\n",
      "        - Submodules: 0\n",
      "        - Classes: 0\n",
      "        - Functions: 2\n",
      "2022-03-28 17:44:42,521 - classy_mermaid.tree.create_trees - DEBUG - In classy_mermaid.tree.create_trees found:\n",
      "          2 Nodes\n",
      "          0 Submodules: \n",
      "2022-03-28 17:44:42,523 - classy_mermaid.tree.module_tree - DEBUG - Creating NodeBase from create_tree_from_module\n",
      "2022-03-28 17:44:42,524 - classy_mermaid.tree.module_tree - DEBUG - Creating NodeBase from get_members_from_module\n",
      "2022-03-28 17:44:42,524 - classy_mermaid.tree.module_tree - DEBUG - Adding node get_members_from_module to tree\n",
      "2022-03-28 17:44:42,526 - classy_mermaid.tree.module_tree - DEBUG - Parent module classy_mermaid.tree.create_trees not in tree\n",
      "2022-03-28 17:44:42,529 - classy_mermaid.tree.create_trees - DEBUG - Returning Tree: num_recursive=3, _submodules=[]\n",
      "2022-03-28 17:44:42,530 - classy_mermaid.tree.create_trees - DEBUG -    TREE: \n",
      "     - ModuleNode(classy_mermaid.logger)\n",
      "     - ModuleNode(classy_mermaid.tree)\n",
      "     - FunctionNode(get_logger)\n",
      "     - ModuleNode(classy_mermaid.tree.create_trees)\n",
      "     - ModuleNode(classy_mermaid.tree.graphs)\n",
      "     - ModuleNode(classy_mermaid.tree.module_tree)\n",
      "     - FunctionNode(create_tree_from_module)\n",
      "     - FunctionNode(tree_to_graph)\n",
      "     - FunctionNode(get_members_from_module)\n",
      "2022-03-28 17:44:42,530 - classy_mermaid.tree.create_trees - DEBUG - Exiting recursion from: classy_mermaid.tree.create_trees\n",
      "2022-03-28 17:44:42,532 - classy_mermaid.tree.create_trees - DEBUG - Recursing into: classy_mermaid.tree.graphs\n",
      "2022-03-28 17:44:42,532 - classy_mermaid.tree.create_trees - DEBUG - Creating tree from module <module 'classy_mermaid.tree.graphs' from '/Users/elizabeth/Documents/urbanlabs/working/classy-mermaid/classy_mermaid/tree/graphs.py'>\n",
      "2022-03-28 17:44:42,533 - classy_mermaid.tree.create_trees - DEBUG - Skipping private members.\n",
      "2022-03-28 17:44:42,535 - classy_mermaid.tree.create_trees - DEBUG - Skipping members outside classy_mermaid.tree.graphs.\n",
      "2022-03-28 17:44:42,538 - classy_mermaid.tree.create_trees - DEBUG - Found members to document in module classy_mermaid.tree.graphs:\n",
      "        - Submodules: 0\n",
      "        - Classes: 0\n",
      "        - Functions: 1\n",
      "2022-03-28 17:44:42,540 - classy_mermaid.tree.create_trees - DEBUG - In classy_mermaid.tree.graphs found:\n",
      "          1 Nodes\n",
      "          0 Submodules: \n",
      "2022-03-28 17:44:42,540 - classy_mermaid.tree.module_tree - DEBUG - Creating NodeBase from tree_to_graph\n",
      "2022-03-28 17:44:42,541 - classy_mermaid.tree.create_trees - DEBUG - Returning Tree: num_recursive=3, _submodules=[]\n",
      "2022-03-28 17:44:42,543 - classy_mermaid.tree.create_trees - DEBUG -    TREE: \n",
      "     - ModuleNode(classy_mermaid.logger)\n",
      "     - ModuleNode(classy_mermaid.tree)\n",
      "     - FunctionNode(get_logger)\n",
      "     - ModuleNode(classy_mermaid.tree.create_trees)\n",
      "     - ModuleNode(classy_mermaid.tree.graphs)\n",
      "     - ModuleNode(classy_mermaid.tree.module_tree)\n",
      "     - FunctionNode(create_tree_from_module)\n",
      "     - FunctionNode(tree_to_graph)\n",
      "     - FunctionNode(get_members_from_module)\n",
      "2022-03-28 17:44:42,544 - classy_mermaid.tree.create_trees - DEBUG - Exiting recursion from: classy_mermaid.tree.graphs\n",
      "2022-03-28 17:44:42,544 - classy_mermaid.tree.create_trees - DEBUG - Recursing into: classy_mermaid.tree.module_tree\n",
      "2022-03-28 17:44:42,545 - classy_mermaid.tree.create_trees - DEBUG - Creating tree from module <module 'classy_mermaid.tree.module_tree' from '/Users/elizabeth/Documents/urbanlabs/working/classy-mermaid/classy_mermaid/tree/module_tree.py'>\n",
      "2022-03-28 17:44:42,546 - classy_mermaid.tree.create_trees - DEBUG - Skipping private members.\n",
      "2022-03-28 17:44:42,547 - classy_mermaid.tree.create_trees - DEBUG - Skipping members outside classy_mermaid.tree.module_tree.\n",
      "2022-03-28 17:44:42,548 - classy_mermaid.tree.create_trees - DEBUG - Found members to document in module classy_mermaid.tree.module_tree:\n",
      "        - Submodules: 0\n",
      "        - Classes: 0\n",
      "        - Functions: 0\n",
      "2022-03-28 17:44:42,549 - classy_mermaid.tree.create_trees - DEBUG - In classy_mermaid.tree.module_tree found:\n",
      "          0 Nodes\n",
      "          0 Submodules: \n",
      "2022-03-28 17:44:42,550 - classy_mermaid.tree.create_trees - DEBUG - Returning Tree: num_recursive=3, _submodules=[]\n",
      "2022-03-28 17:44:42,553 - classy_mermaid.tree.create_trees - DEBUG -    TREE: \n",
      "     - ModuleNode(classy_mermaid.logger)\n",
      "     - ModuleNode(classy_mermaid.tree)\n",
      "     - FunctionNode(get_logger)\n",
      "     - ModuleNode(classy_mermaid.tree.create_trees)\n",
      "     - ModuleNode(classy_mermaid.tree.graphs)\n",
      "     - ModuleNode(classy_mermaid.tree.module_tree)\n",
      "     - FunctionNode(create_tree_from_module)\n",
      "     - FunctionNode(tree_to_graph)\n",
      "     - FunctionNode(get_members_from_module)\n",
      "2022-03-28 17:44:42,554 - classy_mermaid.tree.create_trees - DEBUG - Exiting recursion from: classy_mermaid.tree.module_tree\n",
      "2022-03-28 17:44:42,557 - classy_mermaid.tree.create_trees - DEBUG - Exiting recursion from: classy_mermaid.tree\n"
     ]
    }
   ],
   "source": [
    "t = create_tree_from_module('classy_mermaid',max_recursive=3)"
   ]
  },
  {
   "cell_type": "code",
   "execution_count": 7,
   "id": "d68e2dc6",
   "metadata": {},
   "outputs": [
    {
     "data": {
      "text/plain": [
       "ModuleTree(\n",
       "                name=classy_mermaid, \n",
       "                modules=\n",
       " - \n",
       "     - classy_mermaid.logger\n",
       "     - classy_mermaid.tree\n",
       "     - classy_mermaid.tree.create_trees\n",
       "     - classy_mermaid.tree.graphs\n",
       "     - classy_mermaid.tree.module_tree\n",
       "                classes=\n",
       " - \n",
       "     - \n",
       "                "
      ]
     },
     "execution_count": 7,
     "metadata": {},
     "output_type": "execute_result"
    }
   ],
   "source": [
    "t\n"
   ]
  },
  {
   "cell_type": "code",
   "execution_count": 8,
   "id": "01ab4538",
   "metadata": {},
   "outputs": [],
   "source": [
    "g = tree_to_graph(t)"
   ]
  },
  {
   "cell_type": "code",
   "execution_count": 9,
   "id": "dc9ffb2e",
   "metadata": {},
   "outputs": [
    {
     "data": {
      "text/plain": [
       "<networkx.classes.digraph.DiGraph at 0x12964bdc0>"
      ]
     },
     "execution_count": 9,
     "metadata": {},
     "output_type": "execute_result"
    }
   ],
   "source": [
    "g\n"
   ]
  },
  {
   "cell_type": "code",
   "execution_count": 10,
   "id": "d99b299c",
   "metadata": {},
   "outputs": [
    {
     "data": {
      "image/png": "[encoded data removed]",
      "text/plain": [
       "<Figure size 432x288 with 1 Axes>"
      ]
     },
     "metadata": {},
     "output_type": "display_data"
    }
   ],
   "source": [
    "import networkx as nx\n",
    "nx.draw(g)"
   ]
  },
  {
   "cell_type": "code",
   "execution_count": null,
   "id": "809ede26",
   "metadata": {},
   "outputs": [],
   "source": []
  }
 ],
 "metadata": {
  "kernelspec": {
   "display_name": "Python 3 (ipykernel)",
   "language": "python",
   "name": "python3"
  },
  "language_info": {
   "codemirror_mode": {
    "name": "ipython",
    "version": 3
   },
   "file_extension": ".py",
   "mimetype": "text/x-python",
   "name": "python",
   "nbconvert_exporter": "python",
   "pygments_lexer": "ipython3",
   "version": "3.9.10"
  },
  "varInspector": {
   "cols": {
    "lenName": 16,
    "lenType": 16,
    "lenVar": 40
   },
   "kernels_config": {
    "python": {
     "delete_cmd_postfix": "",
     "delete_cmd_prefix": "del ",
     "library": "var_list.py",
     "varRefreshCmd": "print(var_dic_list())"
    },
    "r": {
     "delete_cmd_postfix": ") ",
     "delete_cmd_prefix": "rm(",
     "library": "var_list.r",
     "varRefreshCmd": "cat(var_dic_list()) "
    }
   },
   "types_to_exclude": [
    "module",
    "function",
    "builtin_function_or_method",
    "instance",
    "_Feature"
   ],
   "window_display": false
  }
 },
 "nbformat": 4,
 "nbformat_minor": 5
}
